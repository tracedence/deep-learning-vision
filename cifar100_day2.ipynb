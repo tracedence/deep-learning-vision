{
  "nbformat": 4,
  "nbformat_minor": 0,
  "metadata": {
    "colab": {
      "provenance": [],
      "authorship_tag": "ABX9TyPDl2qoILMV54ar3iqf1NIc",
      "include_colab_link": true
    },
    "kernelspec": {
      "name": "python3",
      "display_name": "Python 3"
    },
    "language_info": {
      "name": "python"
    }
  },
  "cells": [
    {
      "cell_type": "markdown",
      "metadata": {
        "id": "view-in-github",
        "colab_type": "text"
      },
      "source": [
        "<a href=\"https://colab.research.google.com/github/tracedence/deep-learning-vision/blob/main/cifar100_day2.ipynb\" target=\"_parent\"><img src=\"https://colab.research.google.com/assets/colab-badge.svg\" alt=\"Open In Colab\"/></a>"
      ]
    },
    {
      "cell_type": "code",
      "execution_count": 8,
      "metadata": {
        "id": "hGPD2AziAZnv"
      },
      "outputs": [],
      "source": [
        "import torch\n",
        "import torchvision\n",
        "import torchvision.transforms as transforms\n",
        "import torch.nn as nn\n",
        "import torch.optim as optim"
      ]
    },
    {
      "cell_type": "markdown",
      "source": [
        "## Data loading"
      ],
      "metadata": {
        "id": "TTVVrWQ8Ag6_"
      }
    },
    {
      "cell_type": "code",
      "source": [
        "batch_size = 128\n",
        "trainset = torchvision.datasets.CIFAR100(root='./data', download=True, train=True, transform=transforms.ToTensor())\n",
        "trainloader = torch.utils.data.DataLoader(trainset, batch_size=batch_size, shuffle=True)\n",
        "testset = torchvision.datasets.CIFAR100(root='./data', download=True, train=False, transform=transforms.ToTensor())\n",
        "testloader = torch.utils.data.DataLoader(testset, batch_size=batch_size, shuffle=False)"
      ],
      "metadata": {
        "colab": {
          "base_uri": "https://localhost:8080/"
        },
        "id": "bU_M9PCAAiYS",
        "outputId": "be2f15cd-ddda-4062-c854-f2ac156a512f"
      },
      "execution_count": 2,
      "outputs": [
        {
          "output_type": "stream",
          "name": "stdout",
          "text": [
            "Downloading https://www.cs.toronto.edu/~kriz/cifar-100-python.tar.gz to ./data/cifar-100-python.tar.gz\n"
          ]
        },
        {
          "output_type": "stream",
          "name": "stderr",
          "text": [
            "100%|██████████| 169001437/169001437 [00:02<00:00, 69174161.36it/s]\n"
          ]
        },
        {
          "output_type": "stream",
          "name": "stdout",
          "text": [
            "Extracting ./data/cifar-100-python.tar.gz to ./data\n",
            "Files already downloaded and verified\n"
          ]
        }
      ]
    },
    {
      "cell_type": "code",
      "source": [
        "for i, data in enumerate(trainloader):\n",
        "  # print(data)\n",
        "  inputs, label = data\n",
        "  print(inputs.shape)\n",
        "  break"
      ],
      "metadata": {
        "colab": {
          "base_uri": "https://localhost:8080/"
        },
        "id": "GXaPrpARBt_Z",
        "outputId": "e0d879fd-6b3c-4eb6-dfa5-18df2de08af1"
      },
      "execution_count": 3,
      "outputs": [
        {
          "output_type": "stream",
          "name": "stdout",
          "text": [
            "torch.Size([128, 3, 32, 32])\n"
          ]
        }
      ]
    },
    {
      "cell_type": "markdown",
      "source": [
        "## Model"
      ],
      "metadata": {
        "id": "AgSmckVrCUSj"
      }
    },
    {
      "cell_type": "code",
      "source": [
        "\n",
        "class LeNet(nn.Module):\n",
        "\n",
        "  def __init__(self,):\n",
        "    super().__init__()\n",
        "    self.cnn_model = nn.Sequential(\n",
        "        nn.Conv2d(3, 6, 5),  #(N, 3, 32, 32) --> (N, 6, 28, 28)\n",
        "        nn.Tanh(),\n",
        "        nn.AvgPool2d(2, stride=2), #(N, 6, 28, 28) --> (N, 6, 14, 14)\n",
        "\n",
        "        nn.Conv2d(6, 16, 5),  #(N, 6, 14, 14) --> (N, 16, 10, 10)\n",
        "        nn.Tanh(),\n",
        "        nn.AvgPool2d(2, stride=2), #(N, 16, 10, 10) --> (N, 16, 5, 5)\n",
        "    )\n",
        "\n",
        "    self.fc_model = nn.Sequential(\n",
        "        nn.Linear(400, 120),\n",
        "        nn.Tanh(),\n",
        "        nn.Linear(120, 84),\n",
        "        nn.Tanh(),\n",
        "        nn.Linear(84, 100)\n",
        "    )\n",
        "\n",
        "  def forward(self,x):\n",
        "    x = self.cnn_model(x)\n",
        "    x = x.view(x.size(0), -1)\n",
        "    x = self.fc_model(x)\n",
        "    return x\n"
      ],
      "metadata": {
        "id": "TD1mPwFnCVyE"
      },
      "execution_count": 37,
      "outputs": []
    },
    {
      "cell_type": "code",
      "source": [
        "device = torch.device(\"cuda:0\" if torch.cuda.is_available() else 'cpu')\n",
        "print(device)"
      ],
      "metadata": {
        "colab": {
          "base_uri": "https://localhost:8080/"
        },
        "id": "q3NTDA_BVpKC",
        "outputId": "37a27147-c46b-4f68-a13e-2c90b4e90b00"
      },
      "execution_count": 38,
      "outputs": [
        {
          "output_type": "stream",
          "name": "stdout",
          "text": [
            "cpu\n"
          ]
        }
      ]
    },
    {
      "cell_type": "code",
      "source": [
        "net = LeNet().to(device)\n",
        "loss_fn = nn.CrossEntropyLoss()\n",
        "opt = optim.Adam(net.parameters())"
      ],
      "metadata": {
        "id": "CHFrOGvYWg1z"
      },
      "execution_count": 39,
      "outputs": []
    },
    {
      "cell_type": "markdown",
      "source": [
        "## training"
      ],
      "metadata": {
        "id": "GRfIkMhvWkEq"
      }
    },
    {
      "cell_type": "code",
      "source": [
        "max_epoches = 5\n",
        "epoch_loss = []\n",
        "for epoch in range(max_epoches):\n",
        "  for i, data in enumerate(trainloader, 0):\n",
        "    inputs, labels = data\n",
        "    inputs, labels = inputs.to(device), labels.to(device)\n",
        "    outputs = net.forward(inputs)\n",
        "    loss = loss_fn(outputs, labels)\n",
        "    opt.zero_grad()\n",
        "    loss.backward()\n",
        "    opt.step()\n",
        "    epoch_loss.append(loss.item())"
      ],
      "metadata": {
        "id": "ys78aah9WlEI"
      },
      "execution_count": 44,
      "outputs": []
    },
    {
      "cell_type": "code",
      "source": [
        "import matplotlib.pyplot as plt\n",
        "plt.plot(epoch_loss)\n",
        "plt.show()"
      ],
      "metadata": {
        "colab": {
          "base_uri": "https://localhost:8080/",
          "height": 430
        },
        "id": "IEVHpPJLodG8",
        "outputId": "1514170f-e50f-46ba-cdc6-4c00ae8de9ad"
      },
      "execution_count": 45,
      "outputs": [
        {
          "output_type": "display_data",
          "data": {
            "text/plain": [
              "<Figure size 640x480 with 1 Axes>"
            ],
            "image/png": "[encoded data removed]"
          },
          "metadata": {}
        }
      ]
    },
    {
      "cell_type": "markdown",
      "source": [
        "## evaluation"
      ],
      "metadata": {
        "id": "iKuMngnxh2Cj"
      }
    },
    {
      "cell_type": "code",
      "source": [
        "def evaluation(testloader, net):\n",
        "  total, correct = 0, 0\n",
        "  for i, data in enumerate(testloader):\n",
        "    inputs, labels = data\n",
        "    inputs, labels = inputs.to(device), labels.to(device)\n",
        "    outputs = net.forward(inputs)\n",
        "    _, pred = torch.max(outputs.detach(), 1)\n",
        "    total += labels.size(0)\n",
        "    correct += (pred == labels).sum().item()\n",
        "  return 100 * correct / total\n",
        "\n"
      ],
      "metadata": {
        "id": "qimJsZLvh35W"
      },
      "execution_count": 50,
      "outputs": []
    },
    {
      "cell_type": "code",
      "source": [
        "evaluation(testloader, net)"
      ],
      "metadata": {
        "colab": {
          "base_uri": "https://localhost:8080/"
        },
        "id": "HI8TSHPjooRI",
        "outputId": "61ad6a77-36fc-4332-d8a7-1721172e87a9"
      },
      "execution_count": 51,
      "outputs": [
        {
          "output_type": "execute_result",
          "data": {
            "text/plain": [
              "23.74"
            ]
          },
          "metadata": {},
          "execution_count": 51
        }
      ]
    },
    {
      "cell_type": "code",
      "source": [
        "evaluation(trainloader, net)"
      ],
      "metadata": {
        "colab": {
          "base_uri": "https://localhost:8080/"
        },
        "id": "ElzK0FozosT7",
        "outputId": "319a7c41-0854-4347-9275-8af6cec9d8db"
      },
      "execution_count": 52,
      "outputs": [
        {
          "output_type": "execute_result",
          "data": {
            "text/plain": [
              "27.49"
            ]
          },
          "metadata": {},
          "execution_count": 52
        }
      ]
    },
    {
      "cell_type": "code",
      "source": [],
      "metadata": {
        "id": "3ZxUEEurpaQc"
      },
      "execution_count": null,
      "outputs": []
    }
  ]
}